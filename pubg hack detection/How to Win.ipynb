{
 "cells": [
  {
   "cell_type": "code",
   "execution_count": 14,
   "metadata": {},
   "outputs": [
    {
     "name": "stdout",
     "output_type": "stream",
     "text": [
      "Python: 3.7.4 (default, Aug  9 2019, 18:34:13) [MSC v.1915 64 bit (AMD64)]\n",
      "Numpy: 1.16.5\n",
      "Pandas: 0.25.1\n",
      "Matplotlib: 3.1.1\n",
      "Seaborn: 0.9.0\n",
      "Scipy: 1.3.1\n",
      "xlrd: 1.2.0\n"
     ]
    }
   ],
   "source": [
    "import sys\n",
    "import numpy\n",
    "import pandas\n",
    "import matplotlib\n",
    "import seaborn\n",
    "import scipy\n",
    "import xlrd\n",
    "\n",
    "print('Python: {}'.format(sys.version))\n",
    "print('Numpy: {}'.format(numpy.__version__))\n",
    "print('Pandas: {}'.format(pandas.__version__))\n",
    "print('Matplotlib: {}'.format(matplotlib.__version__))\n",
    "print('Seaborn: {}'.format(seaborn.__version__))\n",
    "print('Scipy: {}'.format(scipy.__version__))\n",
    "print('xlrd: {}'.format(xlrd.__version__))\n"
   ]
  },
  {
   "cell_type": "code",
   "execution_count": null,
   "metadata": {},
   "outputs": [],
   "source": []
  },
  {
   "cell_type": "code",
   "execution_count": 15,
   "metadata": {},
   "outputs": [],
   "source": [
    "def open_exl(address, idx):\n",
    "    data = xlrd.open_workbook(address)\n",
    "    table = data.sheets()[idx]\n",
    "    rows = table.nrows\n",
    "    ct_data = []\n",
    "    for row in range(rows):\n",
    "        ct_data.append(table.row_values(row))\n",
    "    return np.array(ct_data)[:, :4]\n",
    "\n",
    "def asfloat(data):\n",
    "    new = np.zeros_like(data, dtype=np.float64)\n",
    "\n",
    "    for i in range(new.shape[0]):\n",
    "        for j in range(new.shape[1]):\n",
    "            new[i, j] = my_float(data[i, j])\n",
    "\n",
    "    return new\n",
    "\n",
    "def my_float(x):\n",
    "    try:\n",
    "        return float(x)\n",
    "    except:\n",
    "        try:\n",
    "            return float(x[:-1])           \n",
    "        except:\n",
    "            return float(x[:-2])"
   ]
  },
  {
   "cell_type": "code",
   "execution_count": 17,
   "metadata": {},
   "outputs": [
    {
     "ename": "NameError",
     "evalue": "name 'open_exl' is not defined",
     "output_type": "error",
     "traceback": [
      "\u001b[1;31m---------------------------------------------------------------------------\u001b[0m",
      "\u001b[1;31mNameError\u001b[0m                                 Traceback (most recent call last)",
      "\u001b[1;32m<ipython-input-17-2e7975dec1c9>\u001b[0m in \u001b[0;36m<module>\u001b[1;34m\u001b[0m\n\u001b[1;32m----> 1\u001b[1;33m \u001b[0masia\u001b[0m \u001b[1;33m=\u001b[0m \u001b[0mopen_exl\u001b[0m\u001b[1;33m(\u001b[0m\u001b[1;34m'pubg_as.xls'\u001b[0m\u001b[1;33m,\u001b[0m \u001b[1;36m0\u001b[0m\u001b[1;33m)\u001b[0m\u001b[1;33m\u001b[0m\u001b[1;33m\u001b[0m\u001b[0m\n\u001b[0m\u001b[0;32m      2\u001b[0m \u001b[0meu\u001b[0m \u001b[1;33m=\u001b[0m \u001b[0mopen_exl\u001b[0m\u001b[1;33m(\u001b[0m\u001b[1;34m'pubg_eu.xls'\u001b[0m\u001b[1;33m,\u001b[0m \u001b[1;36m0\u001b[0m\u001b[1;33m)\u001b[0m\u001b[1;33m\u001b[0m\u001b[1;33m\u001b[0m\u001b[0m\n\u001b[0;32m      3\u001b[0m \u001b[0mna\u001b[0m \u001b[1;33m=\u001b[0m \u001b[0mopen_exl\u001b[0m\u001b[1;33m(\u001b[0m\u001b[1;34m'pubg_na.xls'\u001b[0m\u001b[1;33m,\u001b[0m \u001b[1;36m0\u001b[0m\u001b[1;33m)\u001b[0m\u001b[1;33m\u001b[0m\u001b[1;33m\u001b[0m\u001b[0m\n\u001b[0;32m      4\u001b[0m \u001b[0moc\u001b[0m \u001b[1;33m=\u001b[0m \u001b[0mopen_exl\u001b[0m\u001b[1;33m(\u001b[0m\u001b[1;34m'pubg_oc.xls'\u001b[0m\u001b[1;33m,\u001b[0m \u001b[1;36m0\u001b[0m\u001b[1;33m)\u001b[0m\u001b[1;33m\u001b[0m\u001b[1;33m\u001b[0m\u001b[0m\n\u001b[0;32m      5\u001b[0m \u001b[0msea\u001b[0m \u001b[1;33m=\u001b[0m \u001b[0mopen_exl\u001b[0m\u001b[1;33m(\u001b[0m\u001b[1;34m'pubg_sea.xls'\u001b[0m\u001b[1;33m,\u001b[0m \u001b[1;36m0\u001b[0m\u001b[1;33m)\u001b[0m\u001b[1;33m\u001b[0m\u001b[1;33m\u001b[0m\u001b[0m\n",
      "\u001b[1;31mNameError\u001b[0m: name 'open_exl' is not defined"
     ]
    }
   ],
   "source": [
    "asia = open_exl('pubg_as.xls', 0)\n",
    "eu = open_exl('pubg_eu.xls', 0)\n",
    "na = open_exl('pubg_na.xls', 0)\n",
    "oc = open_exl('pubg_oc.xls', 0)\n",
    "sea = open_exl('pubg_sea.xls', 0)"
   ]
  },
  {
   "cell_type": "code",
   "execution_count": null,
   "metadata": {},
   "outputs": [],
   "source": []
  }
 ],
 "metadata": {
  "kernelspec": {
   "display_name": "Python 3",
   "language": "python",
   "name": "python3"
  },
  "language_info": {
   "codemirror_mode": {
    "name": "ipython",
    "version": 3
   },
   "file_extension": ".py",
   "mimetype": "text/x-python",
   "name": "python",
   "nbconvert_exporter": "python",
   "pygments_lexer": "ipython3",
   "version": "3.7.4"
  }
 },
 "nbformat": 4,
 "nbformat_minor": 2
}
